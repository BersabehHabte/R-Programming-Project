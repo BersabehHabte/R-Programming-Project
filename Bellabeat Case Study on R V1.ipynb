{
 "cells": [
  {
   "cell_type": "markdown",
   "id": "68f04303",
   "metadata": {},
   "source": [
    "# Case study on a wellness technology company - Bellabeat\n",
    "The following case study will answer basic question that will guide business decision making process of stakeholders at Bellabeat. This case study will be based on the steps of the data analysis process: Ask, Prepare, Process, Analyze, Share and Act.\n",
    "\n",
    "**About the company**\n",
    "\n",
    "Bellabeat is a high-tech company that manufactures health-focused smart products was founded in 2013.It has grown rapidly and quickly positioned itself as a tech-driven wellness company for women. Collecting data on activity, sleep and stress has allowed Bellabeat to empower women with knowledge about their own health and habits. \n",
    "\n",
    "\n",
    "## Phase 1 Ask\n",
    "\n",
    "**Stakeholders**\n",
    "\n",
    "- Urška Sršen: Bellabeat’s cofounder and Chief Creative Officer\n",
    "- Sando Mur: Mathematician and Bellabeat’s cofounder\n",
    "- Bellabeat marketing analytics team\n",
    "\n",
    "**Research questions**\n",
    "\n",
    "- What are some trends in smart device usage?\n",
    "- How could these trends apply to Bellabeat customers?\n",
    "- How could these trends help influence Bellabeat marketing strategy?\n",
    "\n",
    "**Business Task**\n",
    "\n",
    "Identify and analyze trends in smart device usage to determine new growth opportunities for Bellabeat customers and influence marketing strategy of the analytics team."
   ]
  },
  {
   "cell_type": "markdown",
   "id": "45e3e838",
   "metadata": {},
   "source": [
    "## Phase 2 Prepare\n",
    "\n",
    "**Data Source** \n",
    "\n",
    "The dataset used in this case study is called FitBit Fitness Tracker Data (CC0: Public Domain provided by Möbius.)  It is publicly stored on Kaggle and made available by FitBit Fitness Tracker. Thirty eligible Fitbit users consented to the submission of personal tracker data, including minute-level output for physical activity, heart rate, and sleep monitoring. It includes information about daily activity, steps, and heart rate that can be used to explore users’ habits.Therefore, we can conclude the data is credible.\n",
    "\n",
    "**Data Limitations** \n",
    "\n",
    "- Small Sample Size: 30 participants is not a well representative sample size.\n",
    "- Limited time of Data Collcetion: 31 days of data does not reflect all seasonal trends of users. \n",
    "- No Information on Demographics: Gender or age couldnot be taken into account when analyzing the data.\n",
    "\n",
    "**Importing Libraries**\n",
    "\n",
    "Now let's import all the R packages we will be using for our analysis. "
   ]
  },
  {
   "cell_type": "code",
   "execution_count": 1,
   "id": "076095b7",
   "metadata": {},
   "outputs": [
    {
     "name": "stderr",
     "output_type": "stream",
     "text": [
      "Registered S3 methods overwritten by 'ggplot2':\n",
      "  method         from \n",
      "  [.quosures     rlang\n",
      "  c.quosures     rlang\n",
      "  print.quosures rlang\n",
      "Registered S3 method overwritten by 'rvest':\n",
      "  method            from\n",
      "  read_xml.response xml2\n",
      "-- Attaching packages --------------------------------------- tidyverse 1.2.1 --\n",
      "v ggplot2 3.1.1       v purrr   0.3.2  \n",
      "v tibble  2.1.1       v dplyr   0.8.0.1\n",
      "v tidyr   0.8.3       v stringr 1.4.0  \n",
      "v readr   1.3.1       v forcats 0.4.0  \n",
      "-- Conflicts ------------------------------------------ tidyverse_conflicts() --\n",
      "x dplyr::filter() masks stats::filter()\n",
      "x dplyr::lag()    masks stats::lag()\n",
      "\n",
      "Attaching package: 'lubridate'\n",
      "\n",
      "The following object is masked from 'package:base':\n",
      "\n",
      "    date\n",
      "\n",
      "\n",
      "Attaching package: 'scales'\n",
      "\n",
      "The following object is masked from 'package:purrr':\n",
      "\n",
      "    discard\n",
      "\n",
      "The following object is masked from 'package:readr':\n",
      "\n",
      "    col_factor\n",
      "\n"
     ]
    }
   ],
   "source": [
    "library(tidyverse)\n",
    "library(lubridate)\n",
    "library(dplyr)\n",
    "library(ggplot2)\n",
    "library(purrr)\n",
    "library(scales)\n",
    "library(RColorBrewer)"
   ]
  },
  {
   "cell_type": "markdown",
   "id": "e76c735b",
   "metadata": {},
   "source": [
    "**Reading CSV. Files**\n",
    "\n",
    "Now let's read and name the csv files that are useful for this analysis."
   ]
  },
  {
   "cell_type": "code",
   "execution_count": 2,
   "id": "c6015651",
   "metadata": {},
   "outputs": [
    {
     "name": "stderr",
     "output_type": "stream",
     "text": [
      "Parsed with column specification:\n",
      "cols(\n",
      "  Id = col_double(),\n",
      "  ActivityHour = col_character(),\n",
      "  StepTotal = col_double()\n",
      ")\n",
      "Parsed with column specification:\n",
      "cols(\n",
      "  Id = col_double(),\n",
      "  ActivityHour = col_character(),\n",
      "  Calories = col_double()\n",
      ")\n",
      "Parsed with column specification:\n",
      "cols(\n",
      "  Id = col_double(),\n",
      "  ActivityHour = col_character(),\n",
      "  TotalIntensity = col_double(),\n",
      "  AverageIntensity = col_double()\n",
      ")\n",
      "Parsed with column specification:\n",
      "cols(\n",
      "  Id = col_double(),\n",
      "  ActivityDate = col_character(),\n",
      "  TotalSteps = col_double(),\n",
      "  TotalDistance = col_double(),\n",
      "  TrackerDistance = col_double(),\n",
      "  LoggedActivitiesDistance = col_double(),\n",
      "  VeryActiveDistance = col_double(),\n",
      "  ModeratelyActiveDistance = col_double(),\n",
      "  LightActiveDistance = col_double(),\n",
      "  SedentaryActiveDistance = col_double(),\n",
      "  VeryActiveMinutes = col_double(),\n",
      "  FairlyActiveMinutes = col_double(),\n",
      "  LightlyActiveMinutes = col_double(),\n",
      "  SedentaryMinutes = col_double(),\n",
      "  Calories = col_double()\n",
      ")\n",
      "Parsed with column specification:\n",
      "cols(\n",
      "  Id = col_double(),\n",
      "  SleepDay = col_character(),\n",
      "  TotalSleepRecords = col_double(),\n",
      "  TotalMinutesAsleep = col_double(),\n",
      "  TotalTimeInBed = col_double()\n",
      ")\n"
     ]
    }
   ],
   "source": [
    "hourlySteps <- read_csv(\"hourlySteps_merged.csv\")\n",
    "hourlyCalories <-read_csv (\"hourlyCalories_merged.csv\")\n",
    "hourlyIntensities <-read_csv(\"hourlyIntensities_merged.csv\")\n",
    "dailyactivity <-read_csv (\"dailyActivity_merged.csv\")\n",
    "sleepDay <-read_csv (\"sleepDay_merged.csv\")"
   ]
  },
  {
   "cell_type": "markdown",
   "id": "6dda246e",
   "metadata": {},
   "source": [
    "**Reviewing stracture of the dataset** "
   ]
  },
  {
   "cell_type": "code",
   "execution_count": 3,
   "id": "a0ea9a88",
   "metadata": {},
   "outputs": [
    {
     "name": "stdout",
     "output_type": "stream",
     "text": [
      "Classes 'spec_tbl_df', 'tbl_df', 'tbl' and 'data.frame':\t22099 obs. of  3 variables:\n",
      " $ Id          : num  1.5e+09 1.5e+09 1.5e+09 1.5e+09 1.5e+09 ...\n",
      " $ ActivityHour: chr  \"4/12/2016 12:00:00 AM\" \"4/12/2016 1:00:00 AM\" \"4/12/2016 2:00:00 AM\" \"4/12/2016 3:00:00 AM\" ...\n",
      " $ StepTotal   : num  373 160 151 0 0 ...\n",
      " - attr(*, \"spec\")=\n",
      "  .. cols(\n",
      "  ..   Id = col_double(),\n",
      "  ..   ActivityHour = col_character(),\n",
      "  ..   StepTotal = col_double()\n",
      "  .. )\n",
      "Classes 'spec_tbl_df', 'tbl_df', 'tbl' and 'data.frame':\t22099 obs. of  3 variables:\n",
      " $ Id          : num  1.5e+09 1.5e+09 1.5e+09 1.5e+09 1.5e+09 ...\n",
      " $ ActivityHour: chr  \"4/12/2016 12:00:00 AM\" \"4/12/2016 1:00:00 AM\" \"4/12/2016 2:00:00 AM\" \"4/12/2016 3:00:00 AM\" ...\n",
      " $ Calories    : num  81 61 59 47 48 48 48 47 68 141 ...\n",
      " - attr(*, \"spec\")=\n",
      "  .. cols(\n",
      "  ..   Id = col_double(),\n",
      "  ..   ActivityHour = col_character(),\n",
      "  ..   Calories = col_double()\n",
      "  .. )\n",
      "Classes 'spec_tbl_df', 'tbl_df', 'tbl' and 'data.frame':\t22099 obs. of  4 variables:\n",
      " $ Id              : num  1.5e+09 1.5e+09 1.5e+09 1.5e+09 1.5e+09 ...\n",
      " $ ActivityHour    : chr  \"4/12/2016 12:00:00 AM\" \"4/12/2016 1:00:00 AM\" \"4/12/2016 2:00:00 AM\" \"4/12/2016 3:00:00 AM\" ...\n",
      " $ TotalIntensity  : num  20 8 7 0 0 0 0 0 13 30 ...\n",
      " $ AverageIntensity: num  0.333 0.133 0.117 0 0 ...\n",
      " - attr(*, \"spec\")=\n",
      "  .. cols(\n",
      "  ..   Id = col_double(),\n",
      "  ..   ActivityHour = col_character(),\n",
      "  ..   TotalIntensity = col_double(),\n",
      "  ..   AverageIntensity = col_double()\n",
      "  .. )\n",
      "Classes 'spec_tbl_df', 'tbl_df', 'tbl' and 'data.frame':\t940 obs. of  15 variables:\n",
      " $ Id                      : num  1.5e+09 1.5e+09 1.5e+09 1.5e+09 1.5e+09 ...\n",
      " $ ActivityDate            : chr  \"4/12/2016\" \"4/13/2016\" \"4/14/2016\" \"4/15/2016\" ...\n",
      " $ TotalSteps              : num  13162 10735 10460 9762 12669 ...\n",
      " $ TotalDistance           : num  8.5 6.97 6.74 6.28 8.16 ...\n",
      " $ TrackerDistance         : num  8.5 6.97 6.74 6.28 8.16 ...\n",
      " $ LoggedActivitiesDistance: num  0 0 0 0 0 0 0 0 0 0 ...\n",
      " $ VeryActiveDistance      : num  1.88 1.57 2.44 2.14 2.71 ...\n",
      " $ ModeratelyActiveDistance: num  0.55 0.69 0.4 1.26 0.41 ...\n",
      " $ LightActiveDistance     : num  6.06 4.71 3.91 2.83 5.04 ...\n",
      " $ SedentaryActiveDistance : num  0 0 0 0 0 0 0 0 0 0 ...\n",
      " $ VeryActiveMinutes       : num  25 21 30 29 36 38 42 50 28 19 ...\n",
      " $ FairlyActiveMinutes     : num  13 19 11 34 10 20 16 31 12 8 ...\n",
      " $ LightlyActiveMinutes    : num  328 217 181 209 221 164 233 264 205 211 ...\n",
      " $ SedentaryMinutes        : num  728 776 1218 726 773 ...\n",
      " $ Calories                : num  1985 1797 1776 1745 1863 ...\n",
      " - attr(*, \"spec\")=\n",
      "  .. cols(\n",
      "  ..   Id = col_double(),\n",
      "  ..   ActivityDate = col_character(),\n",
      "  ..   TotalSteps = col_double(),\n",
      "  ..   TotalDistance = col_double(),\n",
      "  ..   TrackerDistance = col_double(),\n",
      "  ..   LoggedActivitiesDistance = col_double(),\n",
      "  ..   VeryActiveDistance = col_double(),\n",
      "  ..   ModeratelyActiveDistance = col_double(),\n",
      "  ..   LightActiveDistance = col_double(),\n",
      "  ..   SedentaryActiveDistance = col_double(),\n",
      "  ..   VeryActiveMinutes = col_double(),\n",
      "  ..   FairlyActiveMinutes = col_double(),\n",
      "  ..   LightlyActiveMinutes = col_double(),\n",
      "  ..   SedentaryMinutes = col_double(),\n",
      "  ..   Calories = col_double()\n",
      "  .. )\n",
      "Classes 'spec_tbl_df', 'tbl_df', 'tbl' and 'data.frame':\t413 obs. of  5 variables:\n",
      " $ Id                : num  1.5e+09 1.5e+09 1.5e+09 1.5e+09 1.5e+09 ...\n",
      " $ SleepDay          : chr  \"4/12/2016 12:00:00 AM\" \"4/13/2016 12:00:00 AM\" \"4/15/2016 12:00:00 AM\" \"4/16/2016 12:00:00 AM\" ...\n",
      " $ TotalSleepRecords : num  1 2 1 2 1 1 1 1 1 1 ...\n",
      " $ TotalMinutesAsleep: num  327 384 412 340 700 304 360 325 361 430 ...\n",
      " $ TotalTimeInBed    : num  346 407 442 367 712 320 377 364 384 449 ...\n",
      " - attr(*, \"spec\")=\n",
      "  .. cols(\n",
      "  ..   Id = col_double(),\n",
      "  ..   SleepDay = col_character(),\n",
      "  ..   TotalSleepRecords = col_double(),\n",
      "  ..   TotalMinutesAsleep = col_double(),\n",
      "  ..   TotalTimeInBed = col_double()\n",
      "  .. )\n"
     ]
    }
   ],
   "source": [
    "str(hourlySteps)\n",
    "str(hourlyCalories)\n",
    "str(hourlyIntensities)\n",
    "str(dailyactivity)\n",
    "str(sleepDay)"
   ]
  },
  {
   "cell_type": "markdown",
   "id": "86c7161f",
   "metadata": {},
   "source": [
    "**Preview Datasets**"
   ]
  },
  {
   "cell_type": "code",
   "execution_count": 4,
   "id": "3b3be64c",
   "metadata": {},
   "outputs": [
    {
     "data": {
      "text/html": [
       "<table>\n",
       "<thead><tr><th scope=col>Id</th><th scope=col>ActivityHour</th><th scope=col>StepTotal</th></tr></thead>\n",
       "<tbody>\n",
       "\t<tr><td>1503960366           </td><td>4/12/2016 12:00:00 AM</td><td>373                  </td></tr>\n",
       "\t<tr><td>1503960366           </td><td>4/12/2016 1:00:00 AM </td><td>160                  </td></tr>\n",
       "\t<tr><td>1503960366           </td><td>4/12/2016 2:00:00 AM </td><td>151                  </td></tr>\n",
       "</tbody>\n",
       "</table>\n"
      ],
      "text/latex": [
       "\\begin{tabular}{r|lll}\n",
       " Id & ActivityHour & StepTotal\\\\\n",
       "\\hline\n",
       "\t 1503960366            & 4/12/2016 12:00:00 AM & 373                  \\\\\n",
       "\t 1503960366            & 4/12/2016 1:00:00 AM  & 160                  \\\\\n",
       "\t 1503960366            & 4/12/2016 2:00:00 AM  & 151                  \\\\\n",
       "\\end{tabular}\n"
      ],
      "text/markdown": [
       "\n",
       "| Id | ActivityHour | StepTotal |\n",
       "|---|---|---|\n",
       "| 1503960366            | 4/12/2016 12:00:00 AM | 373                   |\n",
       "| 1503960366            | 4/12/2016 1:00:00 AM  | 160                   |\n",
       "| 1503960366            | 4/12/2016 2:00:00 AM  | 151                   |\n",
       "\n"
      ],
      "text/plain": [
       "  Id         ActivityHour          StepTotal\n",
       "1 1503960366 4/12/2016 12:00:00 AM 373      \n",
       "2 1503960366 4/12/2016 1:00:00 AM  160      \n",
       "3 1503960366 4/12/2016 2:00:00 AM  151      "
      ]
     },
     "metadata": {},
     "output_type": "display_data"
    },
    {
     "data": {
      "text/html": [
       "<table>\n",
       "<thead><tr><th scope=col>Id</th><th scope=col>ActivityHour</th><th scope=col>Calories</th></tr></thead>\n",
       "<tbody>\n",
       "\t<tr><td>1503960366           </td><td>4/12/2016 12:00:00 AM</td><td>81                   </td></tr>\n",
       "\t<tr><td>1503960366           </td><td>4/12/2016 1:00:00 AM </td><td>61                   </td></tr>\n",
       "\t<tr><td>1503960366           </td><td>4/12/2016 2:00:00 AM </td><td>59                   </td></tr>\n",
       "</tbody>\n",
       "</table>\n"
      ],
      "text/latex": [
       "\\begin{tabular}{r|lll}\n",
       " Id & ActivityHour & Calories\\\\\n",
       "\\hline\n",
       "\t 1503960366            & 4/12/2016 12:00:00 AM & 81                   \\\\\n",
       "\t 1503960366            & 4/12/2016 1:00:00 AM  & 61                   \\\\\n",
       "\t 1503960366            & 4/12/2016 2:00:00 AM  & 59                   \\\\\n",
       "\\end{tabular}\n"
      ],
      "text/markdown": [
       "\n",
       "| Id | ActivityHour | Calories |\n",
       "|---|---|---|\n",
       "| 1503960366            | 4/12/2016 12:00:00 AM | 81                    |\n",
       "| 1503960366            | 4/12/2016 1:00:00 AM  | 61                    |\n",
       "| 1503960366            | 4/12/2016 2:00:00 AM  | 59                    |\n",
       "\n"
      ],
      "text/plain": [
       "  Id         ActivityHour          Calories\n",
       "1 1503960366 4/12/2016 12:00:00 AM 81      \n",
       "2 1503960366 4/12/2016 1:00:00 AM  61      \n",
       "3 1503960366 4/12/2016 2:00:00 AM  59      "
      ]
     },
     "metadata": {},
     "output_type": "display_data"
    },
    {
     "data": {
      "text/html": [
       "<table>\n",
       "<thead><tr><th scope=col>Id</th><th scope=col>ActivityHour</th><th scope=col>TotalIntensity</th><th scope=col>AverageIntensity</th></tr></thead>\n",
       "<tbody>\n",
       "\t<tr><td>1503960366           </td><td>4/12/2016 12:00:00 AM</td><td>20                   </td><td>0.333333             </td></tr>\n",
       "\t<tr><td>1503960366           </td><td>4/12/2016 1:00:00 AM </td><td> 8                   </td><td>0.133333             </td></tr>\n",
       "\t<tr><td>1503960366           </td><td>4/12/2016 2:00:00 AM </td><td> 7                   </td><td>0.116667             </td></tr>\n",
       "</tbody>\n",
       "</table>\n"
      ],
      "text/latex": [
       "\\begin{tabular}{r|llll}\n",
       " Id & ActivityHour & TotalIntensity & AverageIntensity\\\\\n",
       "\\hline\n",
       "\t 1503960366            & 4/12/2016 12:00:00 AM & 20                    & 0.333333             \\\\\n",
       "\t 1503960366            & 4/12/2016 1:00:00 AM  &  8                    & 0.133333             \\\\\n",
       "\t 1503960366            & 4/12/2016 2:00:00 AM  &  7                    & 0.116667             \\\\\n",
       "\\end{tabular}\n"
      ],
      "text/markdown": [
       "\n",
       "| Id | ActivityHour | TotalIntensity | AverageIntensity |\n",
       "|---|---|---|---|\n",
       "| 1503960366            | 4/12/2016 12:00:00 AM | 20                    | 0.333333              |\n",
       "| 1503960366            | 4/12/2016 1:00:00 AM  |  8                    | 0.133333              |\n",
       "| 1503960366            | 4/12/2016 2:00:00 AM  |  7                    | 0.116667              |\n",
       "\n"
      ],
      "text/plain": [
       "  Id         ActivityHour          TotalIntensity AverageIntensity\n",
       "1 1503960366 4/12/2016 12:00:00 AM 20             0.333333        \n",
       "2 1503960366 4/12/2016 1:00:00 AM   8             0.133333        \n",
       "3 1503960366 4/12/2016 2:00:00 AM   7             0.116667        "
      ]
     },
     "metadata": {},
     "output_type": "display_data"
    },
    {
     "data": {
      "text/html": [
       "<table>\n",
       "<thead><tr><th scope=col>Id</th><th scope=col>ActivityDate</th><th scope=col>TotalSteps</th><th scope=col>TotalDistance</th><th scope=col>TrackerDistance</th><th scope=col>LoggedActivitiesDistance</th><th scope=col>VeryActiveDistance</th><th scope=col>ModeratelyActiveDistance</th><th scope=col>LightActiveDistance</th><th scope=col>SedentaryActiveDistance</th><th scope=col>VeryActiveMinutes</th><th scope=col>FairlyActiveMinutes</th><th scope=col>LightlyActiveMinutes</th><th scope=col>SedentaryMinutes</th><th scope=col>Calories</th></tr></thead>\n",
       "<tbody>\n",
       "\t<tr><td>1503960366</td><td>4/12/2016 </td><td>13162     </td><td>8.50      </td><td>8.50      </td><td>0         </td><td>1.88      </td><td>0.55      </td><td>6.06      </td><td>0         </td><td>25        </td><td>13        </td><td>328       </td><td> 728      </td><td>1985      </td></tr>\n",
       "\t<tr><td>1503960366</td><td>4/13/2016 </td><td>10735     </td><td>6.97      </td><td>6.97      </td><td>0         </td><td>1.57      </td><td>0.69      </td><td>4.71      </td><td>0         </td><td>21        </td><td>19        </td><td>217       </td><td> 776      </td><td>1797      </td></tr>\n",
       "\t<tr><td>1503960366</td><td>4/14/2016 </td><td>10460     </td><td>6.74      </td><td>6.74      </td><td>0         </td><td>2.44      </td><td>0.40      </td><td>3.91      </td><td>0         </td><td>30        </td><td>11        </td><td>181       </td><td>1218      </td><td>1776      </td></tr>\n",
       "</tbody>\n",
       "</table>\n"
      ],
      "text/latex": [
       "\\begin{tabular}{r|lllllllllllllll}\n",
       " Id & ActivityDate & TotalSteps & TotalDistance & TrackerDistance & LoggedActivitiesDistance & VeryActiveDistance & ModeratelyActiveDistance & LightActiveDistance & SedentaryActiveDistance & VeryActiveMinutes & FairlyActiveMinutes & LightlyActiveMinutes & SedentaryMinutes & Calories\\\\\n",
       "\\hline\n",
       "\t 1503960366 & 4/12/2016  & 13162      & 8.50       & 8.50       & 0          & 1.88       & 0.55       & 6.06       & 0          & 25         & 13         & 328        &  728       & 1985      \\\\\n",
       "\t 1503960366 & 4/13/2016  & 10735      & 6.97       & 6.97       & 0          & 1.57       & 0.69       & 4.71       & 0          & 21         & 19         & 217        &  776       & 1797      \\\\\n",
       "\t 1503960366 & 4/14/2016  & 10460      & 6.74       & 6.74       & 0          & 2.44       & 0.40       & 3.91       & 0          & 30         & 11         & 181        & 1218       & 1776      \\\\\n",
       "\\end{tabular}\n"
      ],
      "text/markdown": [
       "\n",
       "| Id | ActivityDate | TotalSteps | TotalDistance | TrackerDistance | LoggedActivitiesDistance | VeryActiveDistance | ModeratelyActiveDistance | LightActiveDistance | SedentaryActiveDistance | VeryActiveMinutes | FairlyActiveMinutes | LightlyActiveMinutes | SedentaryMinutes | Calories |\n",
       "|---|---|---|---|---|---|---|---|---|---|---|---|---|---|---|\n",
       "| 1503960366 | 4/12/2016  | 13162      | 8.50       | 8.50       | 0          | 1.88       | 0.55       | 6.06       | 0          | 25         | 13         | 328        |  728       | 1985       |\n",
       "| 1503960366 | 4/13/2016  | 10735      | 6.97       | 6.97       | 0          | 1.57       | 0.69       | 4.71       | 0          | 21         | 19         | 217        |  776       | 1797       |\n",
       "| 1503960366 | 4/14/2016  | 10460      | 6.74       | 6.74       | 0          | 2.44       | 0.40       | 3.91       | 0          | 30         | 11         | 181        | 1218       | 1776       |\n",
       "\n"
      ],
      "text/plain": [
       "  Id         ActivityDate TotalSteps TotalDistance TrackerDistance\n",
       "1 1503960366 4/12/2016    13162      8.50          8.50           \n",
       "2 1503960366 4/13/2016    10735      6.97          6.97           \n",
       "3 1503960366 4/14/2016    10460      6.74          6.74           \n",
       "  LoggedActivitiesDistance VeryActiveDistance ModeratelyActiveDistance\n",
       "1 0                        1.88               0.55                    \n",
       "2 0                        1.57               0.69                    \n",
       "3 0                        2.44               0.40                    \n",
       "  LightActiveDistance SedentaryActiveDistance VeryActiveMinutes\n",
       "1 6.06                0                       25               \n",
       "2 4.71                0                       21               \n",
       "3 3.91                0                       30               \n",
       "  FairlyActiveMinutes LightlyActiveMinutes SedentaryMinutes Calories\n",
       "1 13                  328                   728             1985    \n",
       "2 19                  217                   776             1797    \n",
       "3 11                  181                  1218             1776    "
      ]
     },
     "metadata": {},
     "output_type": "display_data"
    },
    {
     "data": {
      "text/html": [
       "<table>\n",
       "<thead><tr><th scope=col>Id</th><th scope=col>SleepDay</th><th scope=col>TotalSleepRecords</th><th scope=col>TotalMinutesAsleep</th><th scope=col>TotalTimeInBed</th></tr></thead>\n",
       "<tbody>\n",
       "\t<tr><td>1503960366           </td><td>4/12/2016 12:00:00 AM</td><td>1                    </td><td>327                  </td><td>346                  </td></tr>\n",
       "\t<tr><td>1503960366           </td><td>4/13/2016 12:00:00 AM</td><td>2                    </td><td>384                  </td><td>407                  </td></tr>\n",
       "\t<tr><td>1503960366           </td><td>4/15/2016 12:00:00 AM</td><td>1                    </td><td>412                  </td><td>442                  </td></tr>\n",
       "</tbody>\n",
       "</table>\n"
      ],
      "text/latex": [
       "\\begin{tabular}{r|lllll}\n",
       " Id & SleepDay & TotalSleepRecords & TotalMinutesAsleep & TotalTimeInBed\\\\\n",
       "\\hline\n",
       "\t 1503960366            & 4/12/2016 12:00:00 AM & 1                     & 327                   & 346                  \\\\\n",
       "\t 1503960366            & 4/13/2016 12:00:00 AM & 2                     & 384                   & 407                  \\\\\n",
       "\t 1503960366            & 4/15/2016 12:00:00 AM & 1                     & 412                   & 442                  \\\\\n",
       "\\end{tabular}\n"
      ],
      "text/markdown": [
       "\n",
       "| Id | SleepDay | TotalSleepRecords | TotalMinutesAsleep | TotalTimeInBed |\n",
       "|---|---|---|---|---|\n",
       "| 1503960366            | 4/12/2016 12:00:00 AM | 1                     | 327                   | 346                   |\n",
       "| 1503960366            | 4/13/2016 12:00:00 AM | 2                     | 384                   | 407                   |\n",
       "| 1503960366            | 4/15/2016 12:00:00 AM | 1                     | 412                   | 442                   |\n",
       "\n"
      ],
      "text/plain": [
       "  Id         SleepDay              TotalSleepRecords TotalMinutesAsleep\n",
       "1 1503960366 4/12/2016 12:00:00 AM 1                 327               \n",
       "2 1503960366 4/13/2016 12:00:00 AM 2                 384               \n",
       "3 1503960366 4/15/2016 12:00:00 AM 1                 412               \n",
       "  TotalTimeInBed\n",
       "1 346           \n",
       "2 407           \n",
       "3 442           "
      ]
     },
     "metadata": {},
     "output_type": "display_data"
    }
   ],
   "source": [
    "head(hourlySteps,3)\n",
    "head(hourlyCalories,3)\n",
    "head(hourlyIntensities,3)\n",
    "head(dailyactivity,3)\n",
    "head(sleepDay,3)"
   ]
  },
  {
   "cell_type": "markdown",
   "id": "bce440e6",
   "metadata": {},
   "source": [
    "## Phase 3 Process\n",
    "\n",
    "**Tools Used**\n",
    "\n",
    "R: Data processing, analysis and visualization will be done using R Programming in Jupyter Notebook\n",
    "\n",
    "#### Data Cleaning\n",
    "\n",
    "Now let's transform the data to do our analysis. The data cleaning process is clearly documented as follows\n",
    "\n",
    "**Checkiing for duplicates**"
   ]
  },
  {
   "cell_type": "code",
   "execution_count": 5,
   "id": "2d1a3179",
   "metadata": {},
   "outputs": [
    {
     "data": {
      "text/html": [
       "0"
      ],
      "text/latex": [
       "0"
      ],
      "text/markdown": [
       "0"
      ],
      "text/plain": [
       "[1] 0"
      ]
     },
     "metadata": {},
     "output_type": "display_data"
    },
    {
     "data": {
      "text/html": [
       "0"
      ],
      "text/latex": [
       "0"
      ],
      "text/markdown": [
       "0"
      ],
      "text/plain": [
       "[1] 0"
      ]
     },
     "metadata": {},
     "output_type": "display_data"
    },
    {
     "data": {
      "text/html": [
       "0"
      ],
      "text/latex": [
       "0"
      ],
      "text/markdown": [
       "0"
      ],
      "text/plain": [
       "[1] 0"
      ]
     },
     "metadata": {},
     "output_type": "display_data"
    },
    {
     "data": {
      "text/html": [
       "0"
      ],
      "text/latex": [
       "0"
      ],
      "text/markdown": [
       "0"
      ],
      "text/plain": [
       "[1] 0"
      ]
     },
     "metadata": {},
     "output_type": "display_data"
    },
    {
     "data": {
      "text/html": [
       "3"
      ],
      "text/latex": [
       "3"
      ],
      "text/markdown": [
       "3"
      ],
      "text/plain": [
       "[1] 3"
      ]
     },
     "metadata": {},
     "output_type": "display_data"
    }
   ],
   "source": [
    "sum(duplicated(hourlySteps))\n",
    "sum(duplicated(hourlyCalories))\n",
    "sum(duplicated(hourlyIntensities))\n",
    "sum(duplicated(dailyactivity))\n",
    "sum(duplicated(sleepDay))"
   ]
  },
  {
   "cell_type": "markdown",
   "id": "5e634925",
   "metadata": {},
   "source": [
    "**Removing duplicates**\n",
    "\n",
    "3 duplicates were found in sleepDay dataframe. We will remove those duplicates."
   ]
  },
  {
   "cell_type": "code",
   "execution_count": 6,
   "id": "539b6a6c",
   "metadata": {},
   "outputs": [],
   "source": [
    "sleepDay <- sleepDay %>%\n",
    "distinct() %>%\n",
    "drop_na()"
   ]
  },
  {
   "cell_type": "markdown",
   "id": "94d59440",
   "metadata": {},
   "source": [
    "**Recheckiing duplicates**"
   ]
  },
  {
   "cell_type": "code",
   "execution_count": 7,
   "id": "29705386",
   "metadata": {},
   "outputs": [
    {
     "data": {
      "text/html": [
       "0"
      ],
      "text/latex": [
       "0"
      ],
      "text/markdown": [
       "0"
      ],
      "text/plain": [
       "[1] 0"
      ]
     },
     "metadata": {},
     "output_type": "display_data"
    },
    {
     "data": {
      "text/html": [
       "0"
      ],
      "text/latex": [
       "0"
      ],
      "text/markdown": [
       "0"
      ],
      "text/plain": [
       "[1] 0"
      ]
     },
     "metadata": {},
     "output_type": "display_data"
    },
    {
     "data": {
      "text/html": [
       "0"
      ],
      "text/latex": [
       "0"
      ],
      "text/markdown": [
       "0"
      ],
      "text/plain": [
       "[1] 0"
      ]
     },
     "metadata": {},
     "output_type": "display_data"
    },
    {
     "data": {
      "text/html": [
       "0"
      ],
      "text/latex": [
       "0"
      ],
      "text/markdown": [
       "0"
      ],
      "text/plain": [
       "[1] 0"
      ]
     },
     "metadata": {},
     "output_type": "display_data"
    },
    {
     "data": {
      "text/html": [
       "0"
      ],
      "text/latex": [
       "0"
      ],
      "text/markdown": [
       "0"
      ],
      "text/plain": [
       "[1] 0"
      ]
     },
     "metadata": {},
     "output_type": "display_data"
    }
   ],
   "source": [
    "sum(duplicated(hourlySteps))\n",
    "sum(duplicated(hourlyCalories))\n",
    "sum(duplicated(hourlyIntensities))\n",
    "sum(duplicated(dailyactivity))\n",
    "sum(duplicated(sleepDay))"
   ]
  },
  {
   "cell_type": "markdown",
   "id": "ef6b8ade",
   "metadata": {},
   "source": [
    "**Checking for N/A in dataframes**"
   ]
  },
  {
   "cell_type": "code",
   "execution_count": 8,
   "id": "4324be2c",
   "metadata": {},
   "outputs": [
    {
     "data": {
      "text/html": [
       "0"
      ],
      "text/latex": [
       "0"
      ],
      "text/markdown": [
       "0"
      ],
      "text/plain": [
       "[1] 0"
      ]
     },
     "metadata": {},
     "output_type": "display_data"
    },
    {
     "data": {
      "text/html": [
       "0"
      ],
      "text/latex": [
       "0"
      ],
      "text/markdown": [
       "0"
      ],
      "text/plain": [
       "[1] 0"
      ]
     },
     "metadata": {},
     "output_type": "display_data"
    },
    {
     "data": {
      "text/html": [
       "0"
      ],
      "text/latex": [
       "0"
      ],
      "text/markdown": [
       "0"
      ],
      "text/plain": [
       "[1] 0"
      ]
     },
     "metadata": {},
     "output_type": "display_data"
    },
    {
     "data": {
      "text/html": [
       "0"
      ],
      "text/latex": [
       "0"
      ],
      "text/markdown": [
       "0"
      ],
      "text/plain": [
       "[1] 0"
      ]
     },
     "metadata": {},
     "output_type": "display_data"
    },
    {
     "data": {
      "text/html": [
       "0"
      ],
      "text/latex": [
       "0"
      ],
      "text/markdown": [
       "0"
      ],
      "text/plain": [
       "[1] 0"
      ]
     },
     "metadata": {},
     "output_type": "display_data"
    }
   ],
   "source": [
    "sum(is.na(hourlySteps))\n",
    "sum(is.na(hourlyCalories))\n",
    "sum(is.na(hourlyIntensities))\n",
    "sum(is.na(dailyactivity))\n",
    "sum(is.na(sleepDay))"
   ]
  },
  {
   "cell_type": "markdown",
   "id": "33a90fc2",
   "metadata": {},
   "source": [
    "**Merging 3 hourly datas in to 1 for easier interpretation**"
   ]
  },
  {
   "cell_type": "code",
   "execution_count": 9,
   "id": "0c2a6dd2",
   "metadata": {},
   "outputs": [],
   "source": [
    "hourlyDatas <- merge(hourlySteps,hourlyCalories)\n",
    "hourlyActivity <- merge(hourlyDatas,hourlyIntensities)"
   ]
  },
  {
   "cell_type": "code",
   "execution_count": 10,
   "id": "9b4d8026",
   "metadata": {},
   "outputs": [
    {
     "data": {
      "text/html": [
       "<table>\n",
       "<thead><tr><th scope=col>Id</th><th scope=col>ActivityHour</th><th scope=col>StepTotal</th><th scope=col>Calories</th><th scope=col>TotalIntensity</th><th scope=col>AverageIntensity</th></tr></thead>\n",
       "<tbody>\n",
       "\t<tr><td>1503960366           </td><td>4/12/2016 1:00:00 AM </td><td>160                  </td><td>61                   </td><td> 8                   </td><td>0.133333             </td></tr>\n",
       "\t<tr><td>1503960366           </td><td>4/12/2016 1:00:00 PM </td><td>221                  </td><td>66                   </td><td> 6                   </td><td>0.100000             </td></tr>\n",
       "\t<tr><td>1503960366           </td><td>4/12/2016 10:00:00 AM</td><td>676                  </td><td>99                   </td><td>29                   </td><td>0.483333             </td></tr>\n",
       "</tbody>\n",
       "</table>\n"
      ],
      "text/latex": [
       "\\begin{tabular}{r|llllll}\n",
       " Id & ActivityHour & StepTotal & Calories & TotalIntensity & AverageIntensity\\\\\n",
       "\\hline\n",
       "\t 1503960366            & 4/12/2016 1:00:00 AM  & 160                   & 61                    &  8                    & 0.133333             \\\\\n",
       "\t 1503960366            & 4/12/2016 1:00:00 PM  & 221                   & 66                    &  6                    & 0.100000             \\\\\n",
       "\t 1503960366            & 4/12/2016 10:00:00 AM & 676                   & 99                    & 29                    & 0.483333             \\\\\n",
       "\\end{tabular}\n"
      ],
      "text/markdown": [
       "\n",
       "| Id | ActivityHour | StepTotal | Calories | TotalIntensity | AverageIntensity |\n",
       "|---|---|---|---|---|---|\n",
       "| 1503960366            | 4/12/2016 1:00:00 AM  | 160                   | 61                    |  8                    | 0.133333              |\n",
       "| 1503960366            | 4/12/2016 1:00:00 PM  | 221                   | 66                    |  6                    | 0.100000              |\n",
       "| 1503960366            | 4/12/2016 10:00:00 AM | 676                   | 99                    | 29                    | 0.483333              |\n",
       "\n"
      ],
      "text/plain": [
       "  Id         ActivityHour          StepTotal Calories TotalIntensity\n",
       "1 1503960366 4/12/2016 1:00:00 AM  160       61        8            \n",
       "2 1503960366 4/12/2016 1:00:00 PM  221       66        6            \n",
       "3 1503960366 4/12/2016 10:00:00 AM 676       99       29            \n",
       "  AverageIntensity\n",
       "1 0.133333        \n",
       "2 0.100000        \n",
       "3 0.483333        "
      ]
     },
     "metadata": {},
     "output_type": "display_data"
    }
   ],
   "source": [
    "head(hourlyActivity,3)"
   ]
  },
  {
   "cell_type": "markdown",
   "id": "9f7b9b29",
   "metadata": {},
   "source": [
    "**Changing date time format of the dataframes**\n",
    "\n",
    "To enable an hour by hour analysis, we need to format all date and time attributes into POSIXct."
   ]
  },
  {
   "cell_type": "code",
   "execution_count": 11,
   "id": "3da5c582",
   "metadata": {},
   "outputs": [],
   "source": [
    "hourlyActivity <- separate(hourlyActivity,ActivityHour,into = c(\"Date\",\"Time\",\"AM/PM\"),sep = \" \")\n",
    "hourlyActivity <- unite(hourlyActivity,Timestamp,c(\"Time\",\"AM/PM\"),sep = \" \")\n",
    "hourlyActivity$Timestamp <- format(as.POSIXct(hourlyActivity$Timestamp,format = '%I:%M:%S %p'),format= \"%H:%M:%S\")"
   ]
  },
  {
   "cell_type": "code",
   "execution_count": 12,
   "id": "55888004",
   "metadata": {},
   "outputs": [
    {
     "data": {
      "text/html": [
       "<table>\n",
       "<thead><tr><th scope=col>Id</th><th scope=col>Date</th><th scope=col>Timestamp</th><th scope=col>StepTotal</th><th scope=col>Calories</th><th scope=col>TotalIntensity</th><th scope=col>AverageIntensity</th></tr></thead>\n",
       "<tbody>\n",
       "\t<tr><td>1503960366</td><td>4/12/2016 </td><td>01:00:00  </td><td>160       </td><td>61        </td><td> 8        </td><td>0.133333  </td></tr>\n",
       "\t<tr><td>1503960366</td><td>4/12/2016 </td><td>13:00:00  </td><td>221       </td><td>66        </td><td> 6        </td><td>0.100000  </td></tr>\n",
       "\t<tr><td>1503960366</td><td>4/12/2016 </td><td>10:00:00  </td><td>676       </td><td>99        </td><td>29        </td><td>0.483333  </td></tr>\n",
       "</tbody>\n",
       "</table>\n"
      ],
      "text/latex": [
       "\\begin{tabular}{r|lllllll}\n",
       " Id & Date & Timestamp & StepTotal & Calories & TotalIntensity & AverageIntensity\\\\\n",
       "\\hline\n",
       "\t 1503960366 & 4/12/2016  & 01:00:00   & 160        & 61         &  8         & 0.133333  \\\\\n",
       "\t 1503960366 & 4/12/2016  & 13:00:00   & 221        & 66         &  6         & 0.100000  \\\\\n",
       "\t 1503960366 & 4/12/2016  & 10:00:00   & 676        & 99         & 29         & 0.483333  \\\\\n",
       "\\end{tabular}\n"
      ],
      "text/markdown": [
       "\n",
       "| Id | Date | Timestamp | StepTotal | Calories | TotalIntensity | AverageIntensity |\n",
       "|---|---|---|---|---|---|---|\n",
       "| 1503960366 | 4/12/2016  | 01:00:00   | 160        | 61         |  8         | 0.133333   |\n",
       "| 1503960366 | 4/12/2016  | 13:00:00   | 221        | 66         |  6         | 0.100000   |\n",
       "| 1503960366 | 4/12/2016  | 10:00:00   | 676        | 99         | 29         | 0.483333   |\n",
       "\n"
      ],
      "text/plain": [
       "  Id         Date      Timestamp StepTotal Calories TotalIntensity\n",
       "1 1503960366 4/12/2016 01:00:00  160       61        8            \n",
       "2 1503960366 4/12/2016 13:00:00  221       66        6            \n",
       "3 1503960366 4/12/2016 10:00:00  676       99       29            \n",
       "  AverageIntensity\n",
       "1 0.133333        \n",
       "2 0.100000        \n",
       "3 0.483333        "
      ]
     },
     "metadata": {},
     "output_type": "display_data"
    }
   ],
   "source": [
    "head(hourlyActivity,3)"
   ]
  },
  {
   "cell_type": "code",
   "execution_count": 13,
   "id": "24e02030",
   "metadata": {},
   "outputs": [
    {
     "data": {
      "text/html": [
       "<table>\n",
       "<thead><tr><th scope=col>Id</th><th scope=col>SleepDay</th><th scope=col>TotalSleepRecords</th><th scope=col>TotalMinutesAsleep</th><th scope=col>TotalTimeInBed</th></tr></thead>\n",
       "<tbody>\n",
       "\t<tr><td>1503960366           </td><td>4/12/2016 12:00:00 AM</td><td>1                    </td><td>327                  </td><td>346                  </td></tr>\n",
       "\t<tr><td>1503960366           </td><td>4/13/2016 12:00:00 AM</td><td>2                    </td><td>384                  </td><td>407                  </td></tr>\n",
       "\t<tr><td>1503960366           </td><td>4/15/2016 12:00:00 AM</td><td>1                    </td><td>412                  </td><td>442                  </td></tr>\n",
       "</tbody>\n",
       "</table>\n"
      ],
      "text/latex": [
       "\\begin{tabular}{r|lllll}\n",
       " Id & SleepDay & TotalSleepRecords & TotalMinutesAsleep & TotalTimeInBed\\\\\n",
       "\\hline\n",
       "\t 1503960366            & 4/12/2016 12:00:00 AM & 1                     & 327                   & 346                  \\\\\n",
       "\t 1503960366            & 4/13/2016 12:00:00 AM & 2                     & 384                   & 407                  \\\\\n",
       "\t 1503960366            & 4/15/2016 12:00:00 AM & 1                     & 412                   & 442                  \\\\\n",
       "\\end{tabular}\n"
      ],
      "text/markdown": [
       "\n",
       "| Id | SleepDay | TotalSleepRecords | TotalMinutesAsleep | TotalTimeInBed |\n",
       "|---|---|---|---|---|\n",
       "| 1503960366            | 4/12/2016 12:00:00 AM | 1                     | 327                   | 346                   |\n",
       "| 1503960366            | 4/13/2016 12:00:00 AM | 2                     | 384                   | 407                   |\n",
       "| 1503960366            | 4/15/2016 12:00:00 AM | 1                     | 412                   | 442                   |\n",
       "\n"
      ],
      "text/plain": [
       "  Id         SleepDay              TotalSleepRecords TotalMinutesAsleep\n",
       "1 1503960366 4/12/2016 12:00:00 AM 1                 327               \n",
       "2 1503960366 4/13/2016 12:00:00 AM 2                 384               \n",
       "3 1503960366 4/15/2016 12:00:00 AM 1                 412               \n",
       "  TotalTimeInBed\n",
       "1 346           \n",
       "2 407           \n",
       "3 442           "
      ]
     },
     "metadata": {},
     "output_type": "display_data"
    }
   ],
   "source": [
    "head(sleepDay,3)"
   ]
  },
  {
   "cell_type": "code",
   "execution_count": 14,
   "id": "a0ebeae9",
   "metadata": {},
   "outputs": [],
   "source": [
    "sleepDay <- separate(sleepDay,SleepDay,into = c(\"Date\",\"Time\",\"AM/PM\"),sep = \" \")\n",
    "sleepDay <- unite(sleepDay,Timestamp,c(\"Time\",\"AM/PM\"),sep = \" \")\n",
    "sleepDay$Timestamp <- format(as.POSIXct(sleepDay$Timestamp,format = '%I:%M:%S %p'),format= \"%H:%M:%S\")"
   ]
  },
  {
   "cell_type": "code",
   "execution_count": 15,
   "id": "2b3cb78e",
   "metadata": {},
   "outputs": [
    {
     "data": {
      "text/html": [
       "<table>\n",
       "<thead><tr><th scope=col>Id</th><th scope=col>Date</th><th scope=col>Timestamp</th><th scope=col>TotalSleepRecords</th><th scope=col>TotalMinutesAsleep</th><th scope=col>TotalTimeInBed</th></tr></thead>\n",
       "<tbody>\n",
       "\t<tr><td>1503960366</td><td>4/12/2016 </td><td>00:00:00  </td><td>1         </td><td>327       </td><td>346       </td></tr>\n",
       "\t<tr><td>1503960366</td><td>4/13/2016 </td><td>00:00:00  </td><td>2         </td><td>384       </td><td>407       </td></tr>\n",
       "\t<tr><td>1503960366</td><td>4/15/2016 </td><td>00:00:00  </td><td>1         </td><td>412       </td><td>442       </td></tr>\n",
       "</tbody>\n",
       "</table>\n"
      ],
      "text/latex": [
       "\\begin{tabular}{r|llllll}\n",
       " Id & Date & Timestamp & TotalSleepRecords & TotalMinutesAsleep & TotalTimeInBed\\\\\n",
       "\\hline\n",
       "\t 1503960366 & 4/12/2016  & 00:00:00   & 1          & 327        & 346       \\\\\n",
       "\t 1503960366 & 4/13/2016  & 00:00:00   & 2          & 384        & 407       \\\\\n",
       "\t 1503960366 & 4/15/2016  & 00:00:00   & 1          & 412        & 442       \\\\\n",
       "\\end{tabular}\n"
      ],
      "text/markdown": [
       "\n",
       "| Id | Date | Timestamp | TotalSleepRecords | TotalMinutesAsleep | TotalTimeInBed |\n",
       "|---|---|---|---|---|---|\n",
       "| 1503960366 | 4/12/2016  | 00:00:00   | 1          | 327        | 346        |\n",
       "| 1503960366 | 4/13/2016  | 00:00:00   | 2          | 384        | 407        |\n",
       "| 1503960366 | 4/15/2016  | 00:00:00   | 1          | 412        | 442        |\n",
       "\n"
      ],
      "text/plain": [
       "  Id         Date      Timestamp TotalSleepRecords TotalMinutesAsleep\n",
       "1 1503960366 4/12/2016 00:00:00  1                 327               \n",
       "2 1503960366 4/13/2016 00:00:00  2                 384               \n",
       "3 1503960366 4/15/2016 00:00:00  1                 412               \n",
       "  TotalTimeInBed\n",
       "1 346           \n",
       "2 407           \n",
       "3 442           "
      ]
     },
     "metadata": {},
     "output_type": "display_data"
    }
   ],
   "source": [
    "head(sleepDay,3)"
   ]
  },
  {
   "cell_type": "markdown",
   "id": "92e09e5b",
   "metadata": {},
   "source": [
    "Now our data is squicky clean and ready for actual analysis.\n",
    "\n",
    "## Pahse 4 Analyze\n",
    "\n",
    "Now we are ready to perform calculations and identify trends and relationships in our data so we can generate a meaningful insight. "
   ]
  },
  {
   "cell_type": "code",
   "execution_count": 16,
   "id": "46509db1",
   "metadata": {},
   "outputs": [
    {
     "data": {
      "text/html": [
       "<table>\n",
       "<thead><tr><th scope=col>Id</th><th scope=col>ActivityDate</th><th scope=col>TotalSteps</th><th scope=col>TotalDistance</th><th scope=col>TrackerDistance</th><th scope=col>LoggedActivitiesDistance</th><th scope=col>VeryActiveDistance</th><th scope=col>ModeratelyActiveDistance</th><th scope=col>LightActiveDistance</th><th scope=col>SedentaryActiveDistance</th><th scope=col>VeryActiveMinutes</th><th scope=col>FairlyActiveMinutes</th><th scope=col>LightlyActiveMinutes</th><th scope=col>SedentaryMinutes</th><th scope=col>Calories</th></tr></thead>\n",
       "<tbody>\n",
       "\t<tr><td>1503960366</td><td>4/12/2016 </td><td>13162     </td><td>8.50      </td><td>8.50      </td><td>0         </td><td>1.88      </td><td>0.55      </td><td>6.06      </td><td>0         </td><td>25        </td><td>13        </td><td>328       </td><td> 728      </td><td>1985      </td></tr>\n",
       "\t<tr><td>1503960366</td><td>4/13/2016 </td><td>10735     </td><td>6.97      </td><td>6.97      </td><td>0         </td><td>1.57      </td><td>0.69      </td><td>4.71      </td><td>0         </td><td>21        </td><td>19        </td><td>217       </td><td> 776      </td><td>1797      </td></tr>\n",
       "\t<tr><td>1503960366</td><td>4/14/2016 </td><td>10460     </td><td>6.74      </td><td>6.74      </td><td>0         </td><td>2.44      </td><td>0.40      </td><td>3.91      </td><td>0         </td><td>30        </td><td>11        </td><td>181       </td><td>1218      </td><td>1776      </td></tr>\n",
       "</tbody>\n",
       "</table>\n"
      ],
      "text/latex": [
       "\\begin{tabular}{r|lllllllllllllll}\n",
       " Id & ActivityDate & TotalSteps & TotalDistance & TrackerDistance & LoggedActivitiesDistance & VeryActiveDistance & ModeratelyActiveDistance & LightActiveDistance & SedentaryActiveDistance & VeryActiveMinutes & FairlyActiveMinutes & LightlyActiveMinutes & SedentaryMinutes & Calories\\\\\n",
       "\\hline\n",
       "\t 1503960366 & 4/12/2016  & 13162      & 8.50       & 8.50       & 0          & 1.88       & 0.55       & 6.06       & 0          & 25         & 13         & 328        &  728       & 1985      \\\\\n",
       "\t 1503960366 & 4/13/2016  & 10735      & 6.97       & 6.97       & 0          & 1.57       & 0.69       & 4.71       & 0          & 21         & 19         & 217        &  776       & 1797      \\\\\n",
       "\t 1503960366 & 4/14/2016  & 10460      & 6.74       & 6.74       & 0          & 2.44       & 0.40       & 3.91       & 0          & 30         & 11         & 181        & 1218       & 1776      \\\\\n",
       "\\end{tabular}\n"
      ],
      "text/markdown": [
       "\n",
       "| Id | ActivityDate | TotalSteps | TotalDistance | TrackerDistance | LoggedActivitiesDistance | VeryActiveDistance | ModeratelyActiveDistance | LightActiveDistance | SedentaryActiveDistance | VeryActiveMinutes | FairlyActiveMinutes | LightlyActiveMinutes | SedentaryMinutes | Calories |\n",
       "|---|---|---|---|---|---|---|---|---|---|---|---|---|---|---|\n",
       "| 1503960366 | 4/12/2016  | 13162      | 8.50       | 8.50       | 0          | 1.88       | 0.55       | 6.06       | 0          | 25         | 13         | 328        |  728       | 1985       |\n",
       "| 1503960366 | 4/13/2016  | 10735      | 6.97       | 6.97       | 0          | 1.57       | 0.69       | 4.71       | 0          | 21         | 19         | 217        |  776       | 1797       |\n",
       "| 1503960366 | 4/14/2016  | 10460      | 6.74       | 6.74       | 0          | 2.44       | 0.40       | 3.91       | 0          | 30         | 11         | 181        | 1218       | 1776       |\n",
       "\n"
      ],
      "text/plain": [
       "  Id         ActivityDate TotalSteps TotalDistance TrackerDistance\n",
       "1 1503960366 4/12/2016    13162      8.50          8.50           \n",
       "2 1503960366 4/13/2016    10735      6.97          6.97           \n",
       "3 1503960366 4/14/2016    10460      6.74          6.74           \n",
       "  LoggedActivitiesDistance VeryActiveDistance ModeratelyActiveDistance\n",
       "1 0                        1.88               0.55                    \n",
       "2 0                        1.57               0.69                    \n",
       "3 0                        2.44               0.40                    \n",
       "  LightActiveDistance SedentaryActiveDistance VeryActiveMinutes\n",
       "1 6.06                0                       25               \n",
       "2 4.71                0                       21               \n",
       "3 3.91                0                       30               \n",
       "  FairlyActiveMinutes LightlyActiveMinutes SedentaryMinutes Calories\n",
       "1 13                  328                   728             1985    \n",
       "2 19                  217                   776             1797    \n",
       "3 11                  181                  1218             1776    "
      ]
     },
     "metadata": {},
     "output_type": "display_data"
    }
   ],
   "source": [
    "head(dailyactivity,3)"
   ]
  },
  {
   "cell_type": "code",
   "execution_count": 17,
   "id": "685a83ef",
   "metadata": {},
   "outputs": [
    {
     "data": {
      "text/plain": [
       "   TotalSteps       Calories   \n",
       " Min.   :    0   Min.   :   0  \n",
       " 1st Qu.: 3790   1st Qu.:1828  \n",
       " Median : 7406   Median :2134  \n",
       " Mean   : 7638   Mean   :2304  \n",
       " 3rd Qu.:10727   3rd Qu.:2793  \n",
       " Max.   :36019   Max.   :4900  "
      ]
     },
     "metadata": {},
     "output_type": "display_data"
    }
   ],
   "source": [
    "dailyactivity %>%\n",
    "    select(TotalSteps,Calories) %>%\n",
    "    summary()"
   ]
  },
  {
   "cell_type": "code",
   "execution_count": 18,
   "id": "edca8e39",
   "metadata": {},
   "outputs": [
    {
     "data": {
      "text/plain": [
       " VeryActiveMinutes FairlyActiveMinutes LightlyActiveMinutes SedentaryMinutes\n",
       " Min.   :  0.00    Min.   :  0.00      Min.   :  0.0        Min.   :   0.0  \n",
       " 1st Qu.:  0.00    1st Qu.:  0.00      1st Qu.:127.0        1st Qu.: 729.8  \n",
       " Median :  4.00    Median :  6.00      Median :199.0        Median :1057.5  \n",
       " Mean   : 21.16    Mean   : 13.56      Mean   :192.8        Mean   : 991.2  \n",
       " 3rd Qu.: 32.00    3rd Qu.: 19.00      3rd Qu.:264.0        3rd Qu.:1229.5  \n",
       " Max.   :210.00    Max.   :143.00      Max.   :518.0        Max.   :1440.0  "
      ]
     },
     "metadata": {},
     "output_type": "display_data"
    }
   ],
   "source": [
    "dailyactivity %>%\n",
    "    select(VeryActiveMinutes, FairlyActiveMinutes,LightlyActiveMinutes,SedentaryMinutes ) %>%\n",
    "    summary()"
   ]
  },
  {
   "cell_type": "code",
   "execution_count": 19,
   "id": "76f9fe78",
   "metadata": {},
   "outputs": [
    {
     "data": {
      "text/plain": [
       " TotalMinutesAsleep TotalTimeInBed \n",
       " Min.   : 58.0      Min.   : 61.0  \n",
       " 1st Qu.:361.0      1st Qu.:403.8  \n",
       " Median :432.5      Median :463.0  \n",
       " Mean   :419.2      Mean   :458.5  \n",
       " 3rd Qu.:490.0      3rd Qu.:526.0  \n",
       " Max.   :796.0      Max.   :961.0  "
      ]
     },
     "metadata": {},
     "output_type": "display_data"
    }
   ],
   "source": [
    "sleepDay %>%\n",
    "    select(TotalMinutesAsleep, TotalTimeInBed) %>%\n",
    "    summary()"
   ]
  },
  {
   "cell_type": "markdown",
   "id": "105b8523",
   "metadata": {},
   "source": [
    "**Key Summary Insight**\n",
    "\n",
    "When we compare the activity levels most of the peoople are reported to be sedentary with a very few fairly active minutes.\n",
    "The average steps taken is 7,638 per day and the average calories burnet is 2,304.\n",
    "\n",
    "- The average sedentary time is 991 minutes which is the max and our goalis to reduce sedentary minutes to more active minutes. \n",
    "- Average total steps per day is 7638. Our goal is to increase the total steps per day \n",
    "- The average calories burnet is reported as 2,304\n",
    "- Average sleep time is approx. 7 hours/day.\n",
    "- When active, participants are engaged mostly in light activity."
   ]
  },
  {
   "cell_type": "markdown",
   "id": "c2a0cf28",
   "metadata": {},
   "source": [
    "## Phase 5 Share\n",
    "\n",
    "Now let's further continue our analysis and support our findings with visualizations so we can present a meaningful insigh to our stakeholders.\n",
    "\n",
    "**Analysis on average steps and intensities**\n",
    "\n",
    "We will have a closer look on what time of a day that participants are engaged in activities that help them burn more calories."
   ]
  },
  {
   "cell_type": "code",
   "execution_count": 20,
   "id": "ec16fb80",
   "metadata": {},
   "outputs": [],
   "source": [
    "hourlyActivitySummary <- hourlyActivity %>% \n",
    "  group_by(Timestamp) %>% summarise(AverageStep = mean(StepTotal), AverageCalorie = mean(Calories), AverageIntensity = mean(TotalIntensity))"
   ]
  },
  {
   "cell_type": "code",
   "execution_count": 21,
   "id": "cbe71c84",
   "metadata": {},
   "outputs": [
    {
     "data": {
      "text/html": [
       "<table>\n",
       "<thead><tr><th scope=col>Timestamp</th><th scope=col>AverageStep</th><th scope=col>AverageCalorie</th><th scope=col>AverageIntensity</th></tr></thead>\n",
       "<tbody>\n",
       "\t<tr><td>00:00:00</td><td>42.18844</td><td>71.80514</td><td>2.129550</td></tr>\n",
       "\t<tr><td>01:00:00</td><td>23.10289</td><td>70.16506</td><td>1.419078</td></tr>\n",
       "\t<tr><td>02:00:00</td><td>17.11040</td><td>69.18650</td><td>1.043944</td></tr>\n",
       "</tbody>\n",
       "</table>\n"
      ],
      "text/latex": [
       "\\begin{tabular}{r|llll}\n",
       " Timestamp & AverageStep & AverageCalorie & AverageIntensity\\\\\n",
       "\\hline\n",
       "\t 00:00:00 & 42.18844 & 71.80514 & 2.129550\\\\\n",
       "\t 01:00:00 & 23.10289 & 70.16506 & 1.419078\\\\\n",
       "\t 02:00:00 & 17.11040 & 69.18650 & 1.043944\\\\\n",
       "\\end{tabular}\n"
      ],
      "text/markdown": [
       "\n",
       "| Timestamp | AverageStep | AverageCalorie | AverageIntensity |\n",
       "|---|---|---|---|\n",
       "| 00:00:00 | 42.18844 | 71.80514 | 2.129550 |\n",
       "| 01:00:00 | 23.10289 | 70.16506 | 1.419078 |\n",
       "| 02:00:00 | 17.11040 | 69.18650 | 1.043944 |\n",
       "\n"
      ],
      "text/plain": [
       "  Timestamp AverageStep AverageCalorie AverageIntensity\n",
       "1 00:00:00  42.18844    71.80514       2.129550        \n",
       "2 01:00:00  23.10289    70.16506       1.419078        \n",
       "3 02:00:00  17.11040    69.18650       1.043944        "
      ]
     },
     "metadata": {},
     "output_type": "display_data"
    }
   ],
   "source": [
    "head(hourlyActivitySummary,3)"
   ]
  },
  {
   "cell_type": "code",
   "execution_count": 24,
   "id": "1b03e5fb",
   "metadata": {},
   "outputs": [
    {
     "data": {
      "image/png": "[encoded data removed]",
      "text/plain": [
       "plot without title"
      ]
     },
     "metadata": {},
     "output_type": "display_data"
    }
   ],
   "source": [
    "ggplot(data = hourlyActivitySummary)+\n",
    "  geom_col(aes(x = Timestamp, y = AverageStep, alpha = AverageCalorie), fill = \"blue\") + \n",
    "  theme(axis.title = element_text(size = 12),\n",
    "        axis.text.x = element_text(angle = 60, size = 11),\n",
    "        axis.text.y = element_text(size = 11),\n",
    "        legend.title = element_text(size = 16),\n",
    "        legend.box.spacing = unit(1.0,'cm'),\n",
    "        plot.title = element_text(size = 15),\n",
    "        plot.subtitle = element_text(size = 13)) +\n",
    "  xlab(\"Time\") + ylab(\"Average Steps\") + \n",
    "  labs(title = \"Hourly Steps Summary\", subtitle = \"Calories Burnet Per Hour\")\n",
    "\n",
    "options(repr.plot.width=18, repr.plot.height=7)"
   ]
  },
  {
   "cell_type": "code",
   "execution_count": 23,
   "id": "1c09031b",
   "metadata": {},
   "outputs": [
    {
     "data": {
      "image/png": "[encoded data removed]",
      "text/plain": [
       "plot without title"
      ]
     },
     "metadata": {},
     "output_type": "display_data"
    }
   ],
   "source": [
    "ggplot(data = hourlyActivitySummary)+\n",
    "  geom_col(aes(x = Timestamp, y = AverageIntensity, alpha = AverageCalorie), fill = \"blue\") + \n",
    "  theme(axis.title = element_text(size = 15),\n",
    "        axis.text.x = element_text(angle = 60, size = 13),\n",
    "        axis.text.y = element_text(size = 13),\n",
    "        legend.title = element_text(size = 16),\n",
    "        legend.box.spacing = unit(1.0,'cm'),\n",
    "        plot.title = element_text(size = 24),\n",
    "        plot.subtitle = element_text(size = 18)) +\n",
    "  xlab(\"Time\") + ylab(\"Average Intensity\") + \n",
    "  labs(title = \"Hourly Intensity Summary\", subtitle = \"Calories Burnet Per Hour\")\n",
    "\n",
    "options(repr.plot.width=16, repr.plot.height=10)"
   ]
  },
  {
   "cell_type": "markdown",
   "id": "bb9e045b",
   "metadata": {},
   "source": [
    "**Key Insight on daily steps and intensities**\n",
    "\n",
    "- The graph shows us that the users took the most steps and burnt the most calories in the 5PM to 7PM timeframe. \n",
    "\n",
    "- The second most active timeframe was between 12PM to 2PM.\n",
    "\n",
    "- Peak intensity is between 5 pm and 7 pm (after work)\n",
    "\n",
    "- As we now know when users are active throughout the day, we can motivate users to get more active during these times."
   ]
  },
  {
   "cell_type": "markdown",
   "id": "b7311206",
   "metadata": {},
   "source": [
    "**Analysing percentage share of minutes spent on different levels of activities**"
   ]
  },
  {
   "cell_type": "code",
   "execution_count": 25,
   "id": "a236f4fd",
   "metadata": {},
   "outputs": [
    {
     "data": {
      "text/html": [
       "<table>\n",
       "<thead><tr><th scope=col>Id</th><th scope=col>ActivityDate</th><th scope=col>TotalSteps</th><th scope=col>TotalDistance</th><th scope=col>TrackerDistance</th><th scope=col>LoggedActivitiesDistance</th><th scope=col>VeryActiveDistance</th><th scope=col>ModeratelyActiveDistance</th><th scope=col>LightActiveDistance</th><th scope=col>SedentaryActiveDistance</th><th scope=col>VeryActiveMinutes</th><th scope=col>FairlyActiveMinutes</th><th scope=col>LightlyActiveMinutes</th><th scope=col>SedentaryMinutes</th><th scope=col>Calories</th></tr></thead>\n",
       "<tbody>\n",
       "\t<tr><td>1503960366</td><td>4/12/2016 </td><td>13162     </td><td>8.50      </td><td>8.50      </td><td>0         </td><td>1.88      </td><td>0.55      </td><td>6.06      </td><td>0         </td><td>25        </td><td>13        </td><td>328       </td><td> 728      </td><td>1985      </td></tr>\n",
       "\t<tr><td>1503960366</td><td>4/13/2016 </td><td>10735     </td><td>6.97      </td><td>6.97      </td><td>0         </td><td>1.57      </td><td>0.69      </td><td>4.71      </td><td>0         </td><td>21        </td><td>19        </td><td>217       </td><td> 776      </td><td>1797      </td></tr>\n",
       "\t<tr><td>1503960366</td><td>4/14/2016 </td><td>10460     </td><td>6.74      </td><td>6.74      </td><td>0         </td><td>2.44      </td><td>0.40      </td><td>3.91      </td><td>0         </td><td>30        </td><td>11        </td><td>181       </td><td>1218      </td><td>1776      </td></tr>\n",
       "</tbody>\n",
       "</table>\n"
      ],
      "text/latex": [
       "\\begin{tabular}{r|lllllllllllllll}\n",
       " Id & ActivityDate & TotalSteps & TotalDistance & TrackerDistance & LoggedActivitiesDistance & VeryActiveDistance & ModeratelyActiveDistance & LightActiveDistance & SedentaryActiveDistance & VeryActiveMinutes & FairlyActiveMinutes & LightlyActiveMinutes & SedentaryMinutes & Calories\\\\\n",
       "\\hline\n",
       "\t 1503960366 & 4/12/2016  & 13162      & 8.50       & 8.50       & 0          & 1.88       & 0.55       & 6.06       & 0          & 25         & 13         & 328        &  728       & 1985      \\\\\n",
       "\t 1503960366 & 4/13/2016  & 10735      & 6.97       & 6.97       & 0          & 1.57       & 0.69       & 4.71       & 0          & 21         & 19         & 217        &  776       & 1797      \\\\\n",
       "\t 1503960366 & 4/14/2016  & 10460      & 6.74       & 6.74       & 0          & 2.44       & 0.40       & 3.91       & 0          & 30         & 11         & 181        & 1218       & 1776      \\\\\n",
       "\\end{tabular}\n"
      ],
      "text/markdown": [
       "\n",
       "| Id | ActivityDate | TotalSteps | TotalDistance | TrackerDistance | LoggedActivitiesDistance | VeryActiveDistance | ModeratelyActiveDistance | LightActiveDistance | SedentaryActiveDistance | VeryActiveMinutes | FairlyActiveMinutes | LightlyActiveMinutes | SedentaryMinutes | Calories |\n",
       "|---|---|---|---|---|---|---|---|---|---|---|---|---|---|---|\n",
       "| 1503960366 | 4/12/2016  | 13162      | 8.50       | 8.50       | 0          | 1.88       | 0.55       | 6.06       | 0          | 25         | 13         | 328        |  728       | 1985       |\n",
       "| 1503960366 | 4/13/2016  | 10735      | 6.97       | 6.97       | 0          | 1.57       | 0.69       | 4.71       | 0          | 21         | 19         | 217        |  776       | 1797       |\n",
       "| 1503960366 | 4/14/2016  | 10460      | 6.74       | 6.74       | 0          | 2.44       | 0.40       | 3.91       | 0          | 30         | 11         | 181        | 1218       | 1776       |\n",
       "\n"
      ],
      "text/plain": [
       "  Id         ActivityDate TotalSteps TotalDistance TrackerDistance\n",
       "1 1503960366 4/12/2016    13162      8.50          8.50           \n",
       "2 1503960366 4/13/2016    10735      6.97          6.97           \n",
       "3 1503960366 4/14/2016    10460      6.74          6.74           \n",
       "  LoggedActivitiesDistance VeryActiveDistance ModeratelyActiveDistance\n",
       "1 0                        1.88               0.55                    \n",
       "2 0                        1.57               0.69                    \n",
       "3 0                        2.44               0.40                    \n",
       "  LightActiveDistance SedentaryActiveDistance VeryActiveMinutes\n",
       "1 6.06                0                       25               \n",
       "2 4.71                0                       21               \n",
       "3 3.91                0                       30               \n",
       "  FairlyActiveMinutes LightlyActiveMinutes SedentaryMinutes Calories\n",
       "1 13                  328                   728             1985    \n",
       "2 19                  217                   776             1797    \n",
       "3 11                  181                  1218             1776    "
      ]
     },
     "metadata": {},
     "output_type": "display_data"
    }
   ],
   "source": [
    "head (dailyactivity,3)"
   ]
  },
  {
   "cell_type": "code",
   "execution_count": 26,
   "id": "eef17ab7",
   "metadata": {},
   "outputs": [],
   "source": [
    "dailyIntensities <- dailyactivity %>% \n",
    "summarise (meanVeryActive = mean(VeryActiveMinutes), \n",
    "           meanFairlyActive = mean(FairlyActiveMinutes),\n",
    "           meanLightlyActive = mean(LightlyActiveMinutes),\n",
    "           meanSedentary = mean(SedentaryMinutes))"
   ]
  },
  {
   "cell_type": "code",
   "execution_count": 27,
   "id": "c8bb7eb8",
   "metadata": {},
   "outputs": [
    {
     "data": {
      "text/html": [
       "<table>\n",
       "<thead><tr><th scope=col>meanVeryActive</th><th scope=col>meanFairlyActive</th><th scope=col>meanLightlyActive</th><th scope=col>meanSedentary</th></tr></thead>\n",
       "<tbody>\n",
       "\t<tr><td>21.16489</td><td>13.56489</td><td>192.8128</td><td>991.2106</td></tr>\n",
       "</tbody>\n",
       "</table>\n"
      ],
      "text/latex": [
       "\\begin{tabular}{r|llll}\n",
       " meanVeryActive & meanFairlyActive & meanLightlyActive & meanSedentary\\\\\n",
       "\\hline\n",
       "\t 21.16489 & 13.56489 & 192.8128 & 991.2106\\\\\n",
       "\\end{tabular}\n"
      ],
      "text/markdown": [
       "\n",
       "| meanVeryActive | meanFairlyActive | meanLightlyActive | meanSedentary |\n",
       "|---|---|---|---|\n",
       "| 21.16489 | 13.56489 | 192.8128 | 991.2106 |\n",
       "\n"
      ],
      "text/plain": [
       "  meanVeryActive meanFairlyActive meanLightlyActive meanSedentary\n",
       "1 21.16489       13.56489         192.8128          991.2106     "
      ]
     },
     "metadata": {},
     "output_type": "display_data"
    }
   ],
   "source": [
    "head (dailyIntensities)"
   ]
  },
  {
   "cell_type": "code",
   "execution_count": 28,
   "id": "9cc1fb5d",
   "metadata": {},
   "outputs": [
    {
     "data": {
      "text/html": [
       "<table>\n",
       "<thead><tr><th scope=col>intensities</th><th scope=col>minutes</th></tr></thead>\n",
       "<tbody>\n",
       "\t<tr><td>meanVeryActive   </td><td> 21.16489        </td></tr>\n",
       "\t<tr><td>meanFairlyActive </td><td> 13.56489        </td></tr>\n",
       "\t<tr><td>meanLightlyActive</td><td>192.81277        </td></tr>\n",
       "\t<tr><td>meanSedentary    </td><td>991.21064        </td></tr>\n",
       "</tbody>\n",
       "</table>\n"
      ],
      "text/latex": [
       "\\begin{tabular}{r|ll}\n",
       " intensities & minutes\\\\\n",
       "\\hline\n",
       "\t meanVeryActive    &  21.16489        \\\\\n",
       "\t meanFairlyActive  &  13.56489        \\\\\n",
       "\t meanLightlyActive & 192.81277        \\\\\n",
       "\t meanSedentary     & 991.21064        \\\\\n",
       "\\end{tabular}\n"
      ],
      "text/markdown": [
       "\n",
       "| intensities | minutes |\n",
       "|---|---|\n",
       "| meanVeryActive    |  21.16489         |\n",
       "| meanFairlyActive  |  13.56489         |\n",
       "| meanLightlyActive | 192.81277         |\n",
       "| meanSedentary     | 991.21064         |\n",
       "\n"
      ],
      "text/plain": [
       "  intensities       minutes  \n",
       "1 meanVeryActive     21.16489\n",
       "2 meanFairlyActive   13.56489\n",
       "3 meanLightlyActive 192.81277\n",
       "4 meanSedentary     991.21064"
      ]
     },
     "metadata": {},
     "output_type": "display_data"
    }
   ],
   "source": [
    "copydata <- dailyIntensities %>%\n",
    "gather(intensities, minutes, meanVeryActive:meanSedentary)\n",
    "head(copydata, 4)"
   ]
  },
  {
   "cell_type": "code",
   "execution_count": 29,
   "id": "e893d6aa",
   "metadata": {},
   "outputs": [
    {
     "data": {
      "text/html": [
       "<table>\n",
       "<thead><tr><th scope=col>intensities</th><th scope=col>minutes</th></tr></thead>\n",
       "<tbody>\n",
       "\t<tr><td>meanVeryActive   </td><td> 21.16489        </td></tr>\n",
       "\t<tr><td>meanFairlyActive </td><td> 13.56489        </td></tr>\n",
       "\t<tr><td>meanLightlyActive</td><td>192.81277        </td></tr>\n",
       "\t<tr><td>meanSedentary    </td><td>991.21064        </td></tr>\n",
       "</tbody>\n",
       "</table>\n"
      ],
      "text/latex": [
       "\\begin{tabular}{r|ll}\n",
       " intensities & minutes\\\\\n",
       "\\hline\n",
       "\t meanVeryActive    &  21.16489        \\\\\n",
       "\t meanFairlyActive  &  13.56489        \\\\\n",
       "\t meanLightlyActive & 192.81277        \\\\\n",
       "\t meanSedentary     & 991.21064        \\\\\n",
       "\\end{tabular}\n"
      ],
      "text/markdown": [
       "\n",
       "| intensities | minutes |\n",
       "|---|---|\n",
       "| meanVeryActive    |  21.16489         |\n",
       "| meanFairlyActive  |  13.56489         |\n",
       "| meanLightlyActive | 192.81277         |\n",
       "| meanSedentary     | 991.21064         |\n",
       "\n"
      ],
      "text/plain": [
       "  intensities       minutes  \n",
       "1 meanVeryActive     21.16489\n",
       "2 meanFairlyActive   13.56489\n",
       "3 meanLightlyActive 192.81277\n",
       "4 meanSedentary     991.21064"
      ]
     },
     "metadata": {},
     "output_type": "display_data"
    }
   ],
   "source": [
    "copydata <- dailyIntensities %>%\n",
    "gather(intensities, minutes, meanVeryActive:meanSedentary)\n",
    "head(copydata, 4)"
   ]
  },
  {
   "cell_type": "code",
   "execution_count": 30,
   "id": "33efaebb",
   "metadata": {},
   "outputs": [],
   "source": [
    "intensityPercent <- group_by(copydata,intensities)%>%\n",
    "mutate(totalPercent = minutes/sum(copydata$minutes))%>%\n",
    "mutate(labels = scales::percent(totalPercent))"
   ]
  },
  {
   "cell_type": "code",
   "execution_count": 31,
   "id": "b4f8d03c",
   "metadata": {},
   "outputs": [
    {
     "data": {
      "text/html": [
       "<table>\n",
       "<thead><tr><th scope=col>intensities</th><th scope=col>minutes</th><th scope=col>totalPercent</th><th scope=col>labels</th></tr></thead>\n",
       "<tbody>\n",
       "\t<tr><td>meanVeryActive   </td><td> 21.16489        </td><td>0.01736602       </td><td>1.74%            </td></tr>\n",
       "\t<tr><td>meanFairlyActive </td><td> 13.56489        </td><td>0.01113014       </td><td>1.11%            </td></tr>\n",
       "\t<tr><td>meanLightlyActive</td><td>192.81277        </td><td>0.15820493       </td><td>15.8%            </td></tr>\n",
       "\t<tr><td>meanSedentary    </td><td>991.21064        </td><td>0.81329891       </td><td>81.3%            </td></tr>\n",
       "</tbody>\n",
       "</table>\n"
      ],
      "text/latex": [
       "\\begin{tabular}{r|llll}\n",
       " intensities & minutes & totalPercent & labels\\\\\n",
       "\\hline\n",
       "\t meanVeryActive    &  21.16489         & 0.01736602        & 1.74\\%          \\\\\n",
       "\t meanFairlyActive  &  13.56489         & 0.01113014        & 1.11\\%          \\\\\n",
       "\t meanLightlyActive & 192.81277         & 0.15820493        & 15.8\\%          \\\\\n",
       "\t meanSedentary     & 991.21064         & 0.81329891        & 81.3\\%          \\\\\n",
       "\\end{tabular}\n"
      ],
      "text/markdown": [
       "\n",
       "| intensities | minutes | totalPercent | labels |\n",
       "|---|---|---|---|\n",
       "| meanVeryActive    |  21.16489         | 0.01736602        | 1.74%             |\n",
       "| meanFairlyActive  |  13.56489         | 0.01113014        | 1.11%             |\n",
       "| meanLightlyActive | 192.81277         | 0.15820493        | 15.8%             |\n",
       "| meanSedentary     | 991.21064         | 0.81329891        | 81.3%             |\n",
       "\n"
      ],
      "text/plain": [
       "  intensities       minutes   totalPercent labels\n",
       "1 meanVeryActive     21.16489 0.01736602   1.74% \n",
       "2 meanFairlyActive   13.56489 0.01113014   1.11% \n",
       "3 meanLightlyActive 192.81277 0.15820493   15.8% \n",
       "4 meanSedentary     991.21064 0.81329891   81.3% "
      ]
     },
     "metadata": {},
     "output_type": "display_data"
    }
   ],
   "source": [
    "head(intensityPercent)"
   ]
  },
  {
   "cell_type": "code",
   "execution_count": 32,
   "id": "5a7e33fe",
   "metadata": {},
   "outputs": [
    {
     "data": {
      "image/png": "[encoded data removed]",
      "text/plain": [
       "plot without title"
      ]
     },
     "metadata": {},
     "output_type": "display_data"
    }
   ],
   "source": [
    "ggplot(intensityPercent, aes (x=\"\", y = totalPercent, fill = intensities)) + \n",
    "  geom_col(position = 'stack', width = 0.25, color = \"black\") +\n",
    "  geom_text(aes(label = paste(round(minutes / sum(minutes) * 100, 1)), x = 1.128),\n",
    "            position = position_stack(vjust = 0.5), size = 5.75) +\n",
    "  theme_classic() +\n",
    "  theme(plot.title = element_text(hjust=0.5, size = 20),\n",
    "        axis.line = element_blank(),\n",
    "        axis.text = element_blank(),\n",
    "        axis.ticks = element_blank()) +\n",
    "  theme(legend.title = element_text(size = 15),\n",
    "       legend.text = element_text (size = 15))+\n",
    "  labs(fill = \"Level of Intensity\",\n",
    "       x = NULL,\n",
    "       y = NULL,\n",
    "       title = \"Intensity Percentages\") + \n",
    "  coord_polar(\"y\")"
   ]
  },
  {
   "cell_type": "markdown",
   "id": "9350a31f",
   "metadata": {},
   "source": [
    "**Key insights on percentage share of different activity minutes**\n",
    "\n",
    "- From the above pie chart, you can see that a majority of users' days are spent being sedentary which contributes 81%.\n",
    "\n",
    "- Participants who were engaged in fairly active and very active minutes contribute just close to 3% \n",
    "\n",
    "- In comparison to the average calories burned by the users in the analysis, the user's may in fact be consuming more calories than they burn per day."
   ]
  },
  {
   "cell_type": "markdown",
   "id": "83433e8d",
   "metadata": {},
   "source": [
    "**Analysing how the levels of activities contribute to calories burnet**"
   ]
  },
  {
   "cell_type": "code",
   "execution_count": 33,
   "id": "f409ae16",
   "metadata": {},
   "outputs": [
    {
     "data": {
      "image/png": "[encoded data removed]",
      "text/plain": [
       "plot without title"
      ]
     },
     "metadata": {},
     "output_type": "display_data"
    }
   ],
   "source": [
    "ggplot(dailyactivity, aes(y = Calories, x = SedentaryMinutes)) + geom_point(color = 'dark blue') +\n",
    "stat_smooth (method = \"lm\") + labs (title = paste (\"Sedentary Minutes Vs. Calories Burnet\")) +\n",
    "theme(text = element_text (size = 13))"
   ]
  },
  {
   "cell_type": "code",
   "execution_count": 34,
   "id": "8798ead3",
   "metadata": {},
   "outputs": [
    {
     "data": {
      "image/png": "[encoded data removed]",
      "text/plain": [
       "plot without title"
      ]
     },
     "metadata": {},
     "output_type": "display_data"
    }
   ],
   "source": [
    "ggplot(dailyactivity, aes(y = Calories, x = LightlyActiveMinutes)) + geom_point(color = 'dark blue') +\n",
    "stat_smooth (method = \"lm\") + labs (title = paste (\"Lightly Active Minutes Vs. Calories Burnet\")) + \n",
    "theme(text = element_text (size = 15))"
   ]
  },
  {
   "cell_type": "code",
   "execution_count": 35,
   "id": "47abc6ca",
   "metadata": {},
   "outputs": [
    {
     "data": {
      "image/png": "[encoded data removed]",
      "text/plain": [
       "plot without title"
      ]
     },
     "metadata": {},
     "output_type": "display_data"
    }
   ],
   "source": [
    "ggplot(dailyactivity, aes(y = Calories, x = FairlyActiveMinutes)) + geom_point(color = 'dark blue') +\n",
    "stat_smooth (method = \"lm\") + labs (title = paste (\"Fairly Active Minutes Vs. Calories Burnet\")) + \n",
    "theme(text = element_text (size = 15))"
   ]
  },
  {
   "cell_type": "code",
   "execution_count": 36,
   "id": "bbe025f0",
   "metadata": {},
   "outputs": [
    {
     "data": {
      "image/png": "[encoded data removed]",
      "text/plain": [
       "plot without title"
      ]
     },
     "metadata": {},
     "output_type": "display_data"
    }
   ],
   "source": [
    "ggplot(dailyactivity, aes(y = Calories, x = VeryActiveMinutes)) + geom_point(color = 'dark blue') +\n",
    "stat_smooth (method = \"lm\") + labs (title = paste (\"Very Active Minutes Vs. Calories Burnet\")) + \n",
    "theme(text = element_text (size = 15))"
   ]
  },
  {
   "cell_type": "markdown",
   "id": "4201bbf1",
   "metadata": {},
   "source": [
    "**Key insights on level of activities Vs calories burnet**\n",
    "\n",
    "- The higher the activity level, the higher the correlation between calories burned and active minutes.\n",
    "\n",
    "- The highest calories were burnet when participants were very active.\n",
    "\n",
    "- Almost negative correlation was observed between sedentary minutes and calories burnet. "
   ]
  },
  {
   "cell_type": "markdown",
   "id": "bd47c31c",
   "metadata": {},
   "source": [
    "**Sleep Analysis**"
   ]
  },
  {
   "cell_type": "code",
   "execution_count": 37,
   "id": "6abd1c32",
   "metadata": {},
   "outputs": [
    {
     "data": {
      "text/html": [
       "<table>\n",
       "<thead><tr><th scope=col>Id</th><th scope=col>Date</th><th scope=col>Timestamp</th><th scope=col>TotalSleepRecords</th><th scope=col>TotalMinutesAsleep</th><th scope=col>TotalTimeInBed</th></tr></thead>\n",
       "<tbody>\n",
       "\t<tr><td>1503960366</td><td>4/12/2016 </td><td>00:00:00  </td><td>1         </td><td>327       </td><td>346       </td></tr>\n",
       "\t<tr><td>1503960366</td><td>4/13/2016 </td><td>00:00:00  </td><td>2         </td><td>384       </td><td>407       </td></tr>\n",
       "\t<tr><td>1503960366</td><td>4/15/2016 </td><td>00:00:00  </td><td>1         </td><td>412       </td><td>442       </td></tr>\n",
       "</tbody>\n",
       "</table>\n"
      ],
      "text/latex": [
       "\\begin{tabular}{r|llllll}\n",
       " Id & Date & Timestamp & TotalSleepRecords & TotalMinutesAsleep & TotalTimeInBed\\\\\n",
       "\\hline\n",
       "\t 1503960366 & 4/12/2016  & 00:00:00   & 1          & 327        & 346       \\\\\n",
       "\t 1503960366 & 4/13/2016  & 00:00:00   & 2          & 384        & 407       \\\\\n",
       "\t 1503960366 & 4/15/2016  & 00:00:00   & 1          & 412        & 442       \\\\\n",
       "\\end{tabular}\n"
      ],
      "text/markdown": [
       "\n",
       "| Id | Date | Timestamp | TotalSleepRecords | TotalMinutesAsleep | TotalTimeInBed |\n",
       "|---|---|---|---|---|---|\n",
       "| 1503960366 | 4/12/2016  | 00:00:00   | 1          | 327        | 346        |\n",
       "| 1503960366 | 4/13/2016  | 00:00:00   | 2          | 384        | 407        |\n",
       "| 1503960366 | 4/15/2016  | 00:00:00   | 1          | 412        | 442        |\n",
       "\n"
      ],
      "text/plain": [
       "  Id         Date      Timestamp TotalSleepRecords TotalMinutesAsleep\n",
       "1 1503960366 4/12/2016 00:00:00  1                 327               \n",
       "2 1503960366 4/13/2016 00:00:00  2                 384               \n",
       "3 1503960366 4/15/2016 00:00:00  1                 412               \n",
       "  TotalTimeInBed\n",
       "1 346           \n",
       "2 407           \n",
       "3 442           "
      ]
     },
     "metadata": {},
     "output_type": "display_data"
    }
   ],
   "source": [
    "head (sleepDay,3)"
   ]
  },
  {
   "cell_type": "code",
   "execution_count": 38,
   "id": "6e07b1cf",
   "metadata": {},
   "outputs": [],
   "source": [
    "sleepAnalysis <- mutate(sleepDay, TotalMinutesAwake = TotalTimeInBed - TotalMinutesAsleep)"
   ]
  },
  {
   "cell_type": "code",
   "execution_count": 39,
   "id": "c0522288",
   "metadata": {},
   "outputs": [
    {
     "data": {
      "text/html": [
       "<table>\n",
       "<thead><tr><th scope=col>Id</th><th scope=col>Date</th><th scope=col>Timestamp</th><th scope=col>TotalSleepRecords</th><th scope=col>TotalMinutesAsleep</th><th scope=col>TotalTimeInBed</th><th scope=col>TotalMinutesAwake</th></tr></thead>\n",
       "<tbody>\n",
       "\t<tr><td>1503960366</td><td>4/12/2016 </td><td>00:00:00  </td><td>1         </td><td>327       </td><td>346       </td><td>19        </td></tr>\n",
       "\t<tr><td>1503960366</td><td>4/13/2016 </td><td>00:00:00  </td><td>2         </td><td>384       </td><td>407       </td><td>23        </td></tr>\n",
       "\t<tr><td>1503960366</td><td>4/15/2016 </td><td>00:00:00  </td><td>1         </td><td>412       </td><td>442       </td><td>30        </td></tr>\n",
       "</tbody>\n",
       "</table>\n"
      ],
      "text/latex": [
       "\\begin{tabular}{r|lllllll}\n",
       " Id & Date & Timestamp & TotalSleepRecords & TotalMinutesAsleep & TotalTimeInBed & TotalMinutesAwake\\\\\n",
       "\\hline\n",
       "\t 1503960366 & 4/12/2016  & 00:00:00   & 1          & 327        & 346        & 19        \\\\\n",
       "\t 1503960366 & 4/13/2016  & 00:00:00   & 2          & 384        & 407        & 23        \\\\\n",
       "\t 1503960366 & 4/15/2016  & 00:00:00   & 1          & 412        & 442        & 30        \\\\\n",
       "\\end{tabular}\n"
      ],
      "text/markdown": [
       "\n",
       "| Id | Date | Timestamp | TotalSleepRecords | TotalMinutesAsleep | TotalTimeInBed | TotalMinutesAwake |\n",
       "|---|---|---|---|---|---|---|\n",
       "| 1503960366 | 4/12/2016  | 00:00:00   | 1          | 327        | 346        | 19         |\n",
       "| 1503960366 | 4/13/2016  | 00:00:00   | 2          | 384        | 407        | 23         |\n",
       "| 1503960366 | 4/15/2016  | 00:00:00   | 1          | 412        | 442        | 30         |\n",
       "\n"
      ],
      "text/plain": [
       "  Id         Date      Timestamp TotalSleepRecords TotalMinutesAsleep\n",
       "1 1503960366 4/12/2016 00:00:00  1                 327               \n",
       "2 1503960366 4/13/2016 00:00:00  2                 384               \n",
       "3 1503960366 4/15/2016 00:00:00  1                 412               \n",
       "  TotalTimeInBed TotalMinutesAwake\n",
       "1 346            19               \n",
       "2 407            23               \n",
       "3 442            30               "
      ]
     },
     "metadata": {},
     "output_type": "display_data"
    }
   ],
   "source": [
    "head (sleepAnalysis,3)"
   ]
  },
  {
   "cell_type": "code",
   "execution_count": 40,
   "id": "df79309c",
   "metadata": {},
   "outputs": [
    {
     "data": {
      "image/png": "[encoded data removed]",
      "text/plain": [
       "plot without title"
      ]
     },
     "metadata": {},
     "output_type": "display_data"
    }
   ],
   "source": [
    "ggplot(sleepAnalysis, aes(y = TotalMinutesAsleep, x = TotalTimeInBed)) + geom_point(shape = 'diamond', color = 'black') +\n",
    "stat_smooth (method = \"lm\") + labs (title = paste (\"Minutes Asleep Vs. Total Time In Bed\")) + \n",
    "theme(text = element_text (size = 16))"
   ]
  },
  {
   "cell_type": "code",
   "execution_count": 41,
   "id": "23fe6ba9",
   "metadata": {},
   "outputs": [
    {
     "data": {
      "image/png": "[encoded data removed]",
      "text/plain": [
       "plot without title"
      ]
     },
     "metadata": {},
     "output_type": "display_data"
    }
   ],
   "source": [
    "ggplot(sleepAnalysis, aes(y = TotalMinutesAwake, x = TotalTimeInBed)) + geom_point(shape = 'diamond', color = 'black') +\n",
    "stat_smooth (method = \"lm\") + labs (title = paste (\"Minutes Awake Vs. Total Time In Bed\")) + \n",
    "theme(text = element_text (size = 16))"
   ]
  },
  {
   "cell_type": "markdown",
   "id": "efa7ba99",
   "metadata": {},
   "source": [
    "**Key insights on sleep analysis**\n",
    "\n",
    "- There is a positive correlation between spending time in bed and the total minutes asleep. \n",
    "\n",
    "- Almost no correlation was observed between total times in bed and total minutes awake. Meaning, participants can minimize sleep duration by managing the amount of time they spend in bed. \n",
    "\n",
    "- The longer time participants spend in bed, there is a higher tendency for them to be asleep. \n"
   ]
  },
  {
   "cell_type": "markdown",
   "id": "bfe1cdd1",
   "metadata": {},
   "source": [
    "## Phase 6 Act\n",
    "\n",
    "**Final Conclusions** \n",
    "\n",
    "\n",
    "- There is a positive correlation between Steps Taken, intensities,  Active Minutes to Calories Burnt.\n",
    "- There is a negative correalation between sedentary time and calories burnt.\n",
    "- Evening times meaning after work/school hours (5PM -7PM) is the most convinent time where the maximum calories were burnt.\n",
    "- There is also a strong correlation between times spent in bed and total minutes asleep. \n",
    "\n",
    "**Recommendations**\n",
    "\n",
    "- Bellabeat could send reminders based on the sedentary minutes spent so participants can walk and move around instead. \n",
    "- Sending push notifications to participants during after work or school times as a reminder them to their routine workout and help them develop habit.\n",
    "- Bellabeat can also implement reward schemes for best performing users by creating competitive ranges amoung other users. Best performing users can accumulate points that can be utilized to unlock new features. \n",
    "- Bellabeat can also send notification to users to go to bed in time for better use of time. \n",
    "- In order to attract new users, Bellabeat can extend their marketing strategies by incorporating new features like music streaming apps, nutrition feeds etc."
   ]
  }
 ],
 "metadata": {
  "kernelspec": {
   "display_name": "R",
   "language": "R",
   "name": "ir"
  },
  "language_info": {
   "codemirror_mode": "r",
   "file_extension": ".r",
   "mimetype": "text/x-r-source",
   "name": "R",
   "pygments_lexer": "r",
   "version": "3.6.1"
  }
 },
 "nbformat": 4,
 "nbformat_minor": 5
}
